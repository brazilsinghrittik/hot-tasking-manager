{
 "cells": [
  {
   "cell_type": "markdown",
   "metadata": {},
   "source": [
    "## Tasking Manager Monthly Report"
   ]
  },
  {
   "cell_type": "code",
   "execution_count": 1,
   "metadata": {},
   "outputs": [],
   "source": [
    "import base64\n",
    "import requests, json\n",
    "import pandas as pd\n",
    "import plotly.graph_objects as go\n",
    "import plotly.express as px\n",
    "from ipywidgets import interact\n",
    "import ipywidgets as widgets\n",
    "\n",
    "from itsdangerous import URLSafeTimedSerializer\n",
    "from IPython.display import display\n",
    "from csv import writer\n"
   ]
  },
  {
   "cell_type": "code",
   "execution_count": 2,
   "metadata": {},
   "outputs": [],
   "source": [
    "TM_APP_BASE_URL = 'https://tasking-manager-tm4-production-api.hotosm.org'\n",
    "#change for user token \n",
    "TOKEN_USER = 'Token T0RNME9EZ3ouWHpvSmRnLlN3SmV0Y012NmI1NFcxcWVPbXNiUjFDZkFVTQ=='"
   ]
  },
  {
   "cell_type": "code",
   "execution_count": 3,
   "metadata": {},
   "outputs": [],
   "source": [
    "headers = {\n",
    "        'Authorization': TOKEN_USER,\n",
    "        'Accept-Language': 'en'\n",
    "        }\n",
    "columns = ['project_id','project_name','project_organisation','teams','percentege_mapped',\n",
    "          'percentege_validated','id_presets','instructions']\n",
    "mapping_level = { \"BEGINNER\": 1, \"INTERMEDIATE\": 2, \"ADVANCED\": 3}\n",
    "team_roles = {\"MAPPER\": 0, \"VALIDATOR\": 1, \"PROJECT_MANAGER\": 2}\n",
    "table = []\n",
    "statistics_header = [\"projectId\",\n",
    "  \"projectArea(in sq.km)\",\n",
    "  \"totalMappers\",\n",
    "  \"totalTasks\",\n",
    "  \"totalComments\",\n",
    "  \"totalMappingTime\",\n",
    "  \"totalValidationTime\",\n",
    "  \"totalTimeSpent\",\n",
    "  \"averageMappingTime\",\n",
    "  \"averageValidationTime\",\n",
    "  \"percentMapped\",\n",
    "  \"percentValidated\",\n",
    "  \"percentBadImagery\",\n",
    "  \"aoiCentroid\",\n",
    "  \"timeToFinishMapping\",\n",
    "  \"timeToFinishValidating\",\n",
    "]"
   ]
  },
  {
   "cell_type": "code",
   "execution_count": 4,
   "metadata": {},
   "outputs": [],
   "source": [
    "def append_list_as_row(file_name, list_of_elem):\n",
    "    with open(file_name, 'a+', newline='') as write_obj:\n",
    "        csv_writer = writer(write_obj)\n",
    "        csv_writer.writerow(list_of_elem)"
   ]
  },
  {
   "cell_type": "code",
   "execution_count": 5,
   "metadata": {},
   "outputs": [],
   "source": [
    "def get_project_id(project_id):\n",
    "    data_result={\n",
    "        'project_id':[],\n",
    "        'project_name':[],\n",
    "        'project_organisation':[],\n",
    "        'percentege_mapped':[],\n",
    "        'percentege_validated':[],\n",
    "        'id_presets':[],\n",
    "        'instructions':[],\n",
    "        'teams':[]\n",
    "    }  \n",
    "    result = requests.get(TM_APP_BASE_URL + '/api/v2/projects/{project_id}/'.format(project_id=project_id), headers=headers).json()\n",
    "    data_result['project_id'].append(project_id)\n",
    "    data_result['project_name'].append(result['projectInfo']['name'])\n",
    "    data_result['project_organisation'].append(result['organisationName'])\n",
    "    data_result['percentege_mapped'].append(result['percentMapped'])\n",
    "    data_result['percentege_validated'].append(result['percentValidated'])\n",
    "    data_result['id_presets'].append(result['idPresets'])\n",
    "    data_result['instructions'].append(len(result['projectInfo']['instructions']))\n",
    "    teams = [team[\"name\"] for team in result[\"teams\"]]\n",
    "    data_result['teams'].append(teams)    \n",
    "    return data_result"
   ]
  },
  {
   "cell_type": "code",
   "execution_count": 6,
   "metadata": {},
   "outputs": [],
   "source": [
    "def btn_eventhandler(object):    \n",
    "    result = get_project_id(project_id.value)\n",
    "    table.append(result)"
   ]
  },
  {
   "cell_type": "code",
   "execution_count": 7,
   "metadata": {},
   "outputs": [
    {
     "data": {
      "application/vnd.jupyter.widget-view+json": {
       "model_id": "43d7f984056d484cba6f3921ef4ed85b",
       "version_major": 2,
       "version_minor": 0
      },
      "text/plain": [
       "Text(value='8469')"
      ]
     },
     "metadata": {},
     "output_type": "display_data"
    },
    {
     "data": {
      "application/vnd.jupyter.widget-view+json": {
       "model_id": "b4f12036e9d042f3b253c9b5c2e97444",
       "version_major": 2,
       "version_minor": 0
      },
      "text/plain": [
       "Button(description='Results', style=ButtonStyle())"
      ]
     },
     "metadata": {},
     "output_type": "display_data"
    }
   ],
   "source": [
    "project_id = widgets.Text(value=\"8469\")  #default value 9143\n",
    "display(project_id)\n",
    "btn = widgets.Button(description='Results')\n",
    "btn.on_click(btn_eventhandler)\n",
    "display(btn)"
   ]
  },
  {
   "cell_type": "code",
   "execution_count": 9,
   "metadata": {},
   "outputs": [
    {
     "data": {
      "text/html": [
       "<div>\n",
       "<style scoped>\n",
       "    .dataframe tbody tr th:only-of-type {\n",
       "        vertical-align: middle;\n",
       "    }\n",
       "\n",
       "    .dataframe tbody tr th {\n",
       "        vertical-align: top;\n",
       "    }\n",
       "\n",
       "    .dataframe thead th {\n",
       "        text-align: right;\n",
       "    }\n",
       "</style>\n",
       "<table border=\"1\" class=\"dataframe\">\n",
       "  <thead>\n",
       "    <tr style=\"text-align: right;\">\n",
       "      <th></th>\n",
       "      <th>project_id</th>\n",
       "      <th>project_name</th>\n",
       "      <th>project_organisation</th>\n",
       "      <th>percentege_mapped</th>\n",
       "      <th>percentege_validated</th>\n",
       "      <th>id_presets</th>\n",
       "      <th>instructions</th>\n",
       "      <th>teams</th>\n",
       "    </tr>\n",
       "  </thead>\n",
       "  <tbody>\n",
       "    <tr>\n",
       "      <th>0</th>\n",
       "      <td>8469</td>\n",
       "      <td>COVID-19 - Gao - Gao, Mali</td>\n",
       "      <td>HOT</td>\n",
       "      <td>100</td>\n",
       "      <td>100</td>\n",
       "      <td>[building]</td>\n",
       "      <td>2850</td>\n",
       "      <td>[Validator Trainees, HOT Global Validators]</td>\n",
       "    </tr>\n",
       "  </tbody>\n",
       "</table>\n",
       "</div>"
      ],
      "text/plain": [
       "  project_id                project_name project_organisation  \\\n",
       "0       8469  COVID-19 - Gao - Gao, Mali                  HOT   \n",
       "\n",
       "   percentege_mapped  percentege_validated  id_presets  instructions  \\\n",
       "0                100                   100  [building]          2850   \n",
       "\n",
       "                                         teams  \n",
       "0  [Validator Trainees, HOT Global Validators]  "
      ]
     },
     "execution_count": 9,
     "metadata": {},
     "output_type": "execute_result"
    }
   ],
   "source": [
    "df = pd.DataFrame(table[0])\n",
    "df.head()"
   ]
  },
  {
   "cell_type": "markdown",
   "metadata": {},
   "source": [
    "## For mappers:\n",
    "####  The current number of projects is "
   ]
  },
  {
   "cell_type": "code",
   "execution_count": null,
   "metadata": {},
   "outputs": [],
   "source": [
    "def get_contries():\n",
    "    countries = requests.get(TM_APP_BASE_URL + '/api/v2/countries/', headers=headers).json()\n",
    "    return countries['tags']\n",
    "\n",
    "def get_all_projects(country):\n",
    "    params = {'country': country}\n",
    "    projects = requests.get(TM_APP_BASE_URL + '/api/v2/projects/', headers=headers, params=params).json()\n",
    "    return projects\n",
    "\n",
    "def total_projects_by_country():\n",
    "    countries = get_contries()\n",
    "    row = []\n",
    "    for country in countries:\n",
    "        total = 0\n",
    "        projects = get_all_projects(country)\n",
    "        if projects['results']:\n",
    "            total = projects['pagination']['total']\n",
    "        row = [country, total]\n",
    "        append_list_as_row('projects-by-country.csv', row)\n",
    "\n",
    "total_projects_by_country()"
   ]
  },
  {
   "cell_type": "code",
   "execution_count": null,
   "metadata": {},
   "outputs": [],
   "source": [
    "# number of projects by mapper level\n",
    "data_mappers = []\n",
    "def get_total_of_projects(mapper_level):\n",
    "    params = {\"mapperLevel\": mapper_level}\n",
    "    result = requests.get(\n",
    "        TM_APP_BASE_URL + \"/api/v2/projects\", headers=headers, params=params\n",
    "    ).json()\n",
    "    return result[\"pagination\"][\"total\"]\n",
    "    \n",
    "    \n",
    "def get_number_of_projects_by_mapper_level():\n",
    "    mapper_level = [\"BEGINNER\",\"INTERMEDIATE\",\"ADVANCED\"]\n",
    "    mappers = {}\n",
    "    for level in mapper_level:\n",
    "        mappers.update({level: get_total_of_projects(level)})\n",
    "    return mappers        "
   ]
  },
  {
   "cell_type": "code",
   "execution_count": null,
   "metadata": {},
   "outputs": [],
   "source": [
    "users = get_number_of_projects_by_mapper_level()\n",
    "df = pd.DataFrame([users])\n",
    "df.head()"
   ]
  },
  {
   "cell_type": "markdown",
   "metadata": {},
   "source": [
    "## For validators:"
   ]
  },
  {
   "cell_type": "code",
   "execution_count": null,
   "metadata": {
    "scrolled": false
   },
   "outputs": [],
   "source": [
    "data_teams = []\n",
    "members = []\n",
    "\n",
    "def get_validators(team_role):\n",
    "    params = {\"team_role\": team_role}\n",
    "    result = requests.get(\n",
    "        TM_APP_BASE_URL + \"/api/v2/teams/\", headers=headers, params=params\n",
    "    ).json()\n",
    "    for team in result[\"teams\"]:\n",
    "        team_detail = requests.get(\n",
    "            TM_APP_BASE_URL + \"/api/v2/teams/{team_id}/\".format(team_id=team[\"teamId\"]),\n",
    "            headers=headers,\n",
    "        ).json()\n",
    "        projects = team_detail[\"team_projects\"]\n",
    "        members.append({\"teamId\": team[\"teamId\"], \"members\": team[\"members\"]})\n",
    "        \n",
    "        for project in projects:            \n",
    "            try:\n",
    "                statistics = requests.get(\n",
    "                    TM_APP_BASE_URL\n",
    "                    + \"/api/v2/projects/{project_id}/statistics/\".format(\n",
    "                        project_id=project[\"project_id\"]\n",
    "                    ),\n",
    "                    headers=headers,\n",
    "                ).json()\n",
    "                project_detail = {\n",
    "                        \"teamId\":team[\"teamId\"],\n",
    "                        \"team_name\": team[\"name\"],\n",
    "                        \"project_id\": int(project[\"project_id\"]),\n",
    "                        \"project_name\": project[\"project_name\"],\n",
    "                        \"tasks\": int(statistics[\"totalTasks\"]),\n",
    "                        \"percentMapped\": int(statistics[\"percentMapped\"]),\n",
    "                        \"percentValidated\": int(statistics[\"percentValidated\"]),\n",
    "                    }                \n",
    "                append_list_as_row(\n",
    "                    \"validator.csv\", project_detail.values()\n",
    "                )\n",
    "            except:\n",
    "                pass\n",
    "        \n",
    "    print(\"------Export completed------\")\n",
    "\n",
    "\n",
    "get_validators(\"VALIDATORS\")\n"
   ]
  },
  {
   "cell_type": "code",
   "execution_count": null,
   "metadata": {},
   "outputs": [],
   "source": [
    "#number of mappers grouped by experience\n",
    "user_experience = {}\n",
    "def get_user_detail(username):\n",
    "    user =  requests.get(TM_APP_BASE_URL + '/api/v2/users/queries/{username}/'.format(username=username),\n",
    "                         headers=headers).json()                \n",
    "    return {'id': user['id'],\n",
    "                 'username': user['username'],\n",
    "                 'role': user['role'],\n",
    "                 'mappingLevel': user['mappingLevel'],\n",
    "                 'country': user[\"country\"]\n",
    "        }\n",
    "\n",
    "def user_by_experience():\n",
    "    beginner = 0 \n",
    "    intermediate = 0\n",
    "    advanced = 0 \n",
    "\n",
    "    for row in members:\n",
    "        for member in row['members']:\n",
    "            user = get_user_detail(member['username'])\n",
    "            if user['mappingLevel'] == 'BEGINNER':\n",
    "                beginner += 1\n",
    "            elif user['mappingLevel'] == 'INTERMEDIATE':\n",
    "                intermediate += 1 \n",
    "            else: \n",
    "                advanced += 1\n",
    "    return {\n",
    "        'BEGINNER': beginner,\n",
    "        'INTERMEDIATE': intermediate,\n",
    "        'ADVANCED': advanced\n",
    "    }\n",
    "            "
   ]
  },
  {
   "cell_type": "code",
   "execution_count": null,
   "metadata": {},
   "outputs": [],
   "source": [
    "users = user_by_experience()\n",
    "df = pd.DataFrame([users])\n",
    "df.head()"
   ]
  },
  {
   "cell_type": "markdown",
   "metadata": {},
   "source": [
    "## for project managers\n",
    "### Statistics on project\n"
   ]
  },
  {
   "cell_type": "code",
   "execution_count": null,
   "metadata": {},
   "outputs": [],
   "source": [
    "def get_project_stast(project_id):\n",
    "    statistics = requests.get(TM_APP_BASE_URL + \n",
    "                              '/api/v2/projects/{project_id}/statistics/'.format(project_id=project_id),\n",
    "                              headers=headers).json()          \n",
    "    return statistics\n",
    "\n",
    "def get_all_projects():\n",
    "    append_list_as_row('statistics_project.csv', statistics_header)\n",
    "    projects = requests.get(TM_APP_BASE_URL + '/api/v2/projects/', headers=headers).json()\n",
    "    for page in range(1, projects['pagination']['pages']):\n",
    "        params = {'page': page}\n",
    "        project_list = requests.get(TM_APP_BASE_URL + '/api/v2/projects/', headers=headers, params=params).json()\n",
    "        for project in project_list['results']:\n",
    "            project_id = project['projectId']\n",
    "            try:\n",
    "                statistics = get_project_stast(project_id)\n",
    "                append_list_as_row('statistics_project.csv', statistics.values())\n",
    "            except:\n",
    "                pass\n",
    "get_all_projects()"
   ]
  },
  {
   "cell_type": "code",
   "execution_count": null,
   "metadata": {},
   "outputs": [],
   "source": []
  }
 ],
 "metadata": {
  "kernelspec": {
   "display_name": "Python 3",
   "language": "python",
   "name": "python3"
  },
  "language_info": {
   "codemirror_mode": {
    "name": "ipython",
    "version": 3
   },
   "file_extension": ".py",
   "mimetype": "text/x-python",
   "name": "python",
   "nbconvert_exporter": "python",
   "pygments_lexer": "ipython3",
   "version": "3.7.3"
  }
 },
 "nbformat": 4,
 "nbformat_minor": 4
}
