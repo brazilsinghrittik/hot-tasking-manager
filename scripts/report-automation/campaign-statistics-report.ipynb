{
  "cells": [
    {
      "cell_type": "code",
      "source": [
        "import pandas as pd\n",
        "import requests\n",
        "from datetime import datetime\n",
        "from IPython.display import HTML, Markdown\n",
        "from matplotlib.colors import LinearSegmentedColormap\n",
        "import matplotlib.pyplot as plt\n",
        "import numpy as np"
      ],
      "outputs": [],
      "execution_count": null,
      "metadata": {
        "execution": {
          "iopub.status.busy": "2020-10-27T17:27:03.734Z",
          "iopub.execute_input": "2020-10-27T17:27:03.743Z",
          "shell.execute_reply": "2020-10-27T17:27:04.233Z",
          "iopub.status.idle": "2020-10-27T17:27:04.261Z"
        }
      }
    },
    {
      "cell_type": "code",
      "source": [
        "##### notebook execution parameters & usage #####\n",
        "#\n",
        "# In normal use of this notebook, set the parameters in this cell\n",
        "# to match the search parameters for your campaign\n",
        "#\n",
        "# this jupyter notebook is intended to be executed, and then read with\n",
        "# cell inputs hidden.\n",
        "# \n",
        "# jupyter notebook campaign-statistics-report.ipynb --to html --execute --no-prompt --no-input\n",
        "#\n",
        "\n",
        "\n",
        "\n",
        "TEXT_SEARCH = \"\" #@param {type:\"string\"}\n",
        "CAMPAIGN = \"COVID-19\" #@param {type:\"string\"}\n",
        "projectStatuses = \"ARCHIVED,PUBLISHED,DRAFT\" #@param {type:\"string\"}\n",
        "DEFAULT_INSTANCE = 'tasking-manager-tm4-production-api.hotosm.org' #@param {type:\"string\"}\n",
        "ACTIVATION_DATE = datetime(2020,3,25)\n",
        "\n",
        "\n"
      ],
      "outputs": [],
      "execution_count": null,
      "metadata": {
        "execution": {
          "iopub.execute_input": "2020-10-27T17:27:04.283Z",
          "iopub.status.busy": "2020-10-27T17:27:04.273Z",
          "iopub.status.idle": "2020-10-27T17:27:04.298Z",
          "shell.execute_reply": "2020-10-27T17:27:04.244Z"
        },
        "jupyter": {
          "outputs_hidden": false,
          "source_hidden": false
        },
        "nteract": {
          "transient": {
            "deleting": false
          }
        }
      }
    },
    {
      "cell_type": "code",
      "source": [
        "# notebook utility function definitions\n",
        "\n",
        "# make sure pandas doesn't truncate the dataframe when rendered\n",
        "pd.set_option('display.max_rows', 1000)\n",
        "\n",
        "# colors from the HOTOSM media kit :)\n",
        "hotosm_colors = {\n",
        "  \"red\": \"#D73F3F\",\n",
        "  \"red-dark\": \"#6C2020\",\n",
        "  \"red-light\": \"#FFEDED\",\n",
        "  \"orange\": \"#FAA71E\",\n",
        "  \"tan\": \"#F0EFEF\",\n",
        "  \"blue-dark\": \"#2C3038\",\n",
        "  \"blue-grey\": \"#68707F\",\n",
        "  \"blue-light\": \"#929DB3\",\n",
        "  \"grey-light\": \"#E1E0E0\",\n",
        "  \"green\": \"#53AE62\"\n",
        "}\n",
        "\n",
        "\n",
        "def hotosm_cmap():\n",
        "    \"\"\"return a matplotlib red-orange-green colormap using HOTOSM color palette\"\"\"\n",
        "    # create a colormap for colorign mappedness and validatedness percentages\n",
        "    colors = [\n",
        "        hotosm_colors['red'], hotosm_colors['orange'],\n",
        "        hotosm_colors['green']\n",
        "    ]\n",
        "    colormap = LinearSegmentedColormap.from_list('hotosm-RdOrGr', colors, N=20)\n",
        "    return colormap\n",
        "\n",
        "def format_priority(val: str) -> str:\n",
        "    \"\"\"Pandas styler, set cell color based on project priority in TM.\n",
        "    val: on of LOW, MEDIUM, HIGH, or URGENT\"\"\"\n",
        "    lookup = {\n",
        "        'LOW': hotosm_colors['grey-light'],\n",
        "        'MEDIUM': hotosm_colors['green'],\n",
        "        'HIGH': hotosm_colors['orange'],\n",
        "        'URGENT': hotosm_colors['red']\n",
        "    }\n",
        "    color = lookup.get(val, \"none\")\n",
        "    return f'background-color: {color};'\n",
        "\n",
        "\n",
        "def format_status(val: str) -> str:\n",
        "    \"\"\"Pandas styler, set cell color based on proejct status in TM\"\"\"\n",
        "    lookup = {\n",
        "        'ARCHIVED': hotosm_colors['grey-light'],\n",
        "        'PUBLISHED': hotosm_colors['green'],\n",
        "        'DRAFT': hotosm_colors['orange']\n",
        "    }\n",
        "    color = lookup.get(val, \"none\")\n",
        "    return f'background-color: {color};'\n",
        "\n",
        "\n",
        "def format_project_link(id: int, instance:str=DEFAULT_INSTANCE) -> str:\n",
        "    \"\"\"Returns project URL for given project id.\n",
        "    Defaults to main TM instance.\"\"\"\n",
        "    return f\"https://{instance}/project/{id}\"\n",
        "\n",
        "\n",
        "def format_clickable_project_id(id: int, instance:str=DEFAULT_INSTANCE) -> str:\n",
        "    \"\"\"Returns a html link tag string linking to the project\"\"\"\n",
        "    url = format_project_link(id, instance=instance)\n",
        "    return f'<a href=\"{url}\">{id}</a>'\n",
        "\n",
        "\n",
        "def project_search(textSearch:str=\"\",\n",
        "                   campaign:str=\"\",\n",
        "                   mapperLevel:str='ALL',\n",
        "                   projectStatuses:str='',\n",
        "                   page:int = 1,\n",
        "                   token:str='',\n",
        "                   instance:str=DEFAULT_INSTANCE):\n",
        "    \"\"\"Uses GET v2/project/search, generator of search result pages staring from `page`\n",
        "    projectStatuses: one or both of ARCHIVED, DRAFT, separated by comma\"\"\"\n",
        " \n",
        "    # both must be empty, or both must be non-empty\n",
        "    assert mapperLevel in ['BEGINNER', 'INTERMEDIATE', 'ADVANCED', 'ALL'], \"invalid mapper category\"\n",
        "\n",
        "    request_count = 0\n",
        "    while True:\n",
        "\n",
        "        r = requests.get(f\"https://{instance}/api/v2/projects/\",\n",
        "            params = {\n",
        "                'textSearch': textSearch,\n",
        "                'mapperLevel': mapperLevel,\n",
        "                'projectStatuses': projectStatuses,\n",
        "                'campaign': campaign,\n",
        "                'page': page\n",
        "            },\n",
        "            headers = {\n",
        "                'Accept-Language': '*',\n",
        "                'Content-Type': 'application/json',\n",
        "                'Authorization': token\n",
        "            }\n",
        "        )\n",
        "\n",
        "        request_count += 1\n",
        "        assert request_count < 100, \"api search query stuck in loop\"\n",
        "\n",
        "        j = r.json()\n",
        "        assert r.status_code == 200, f\"request failed: {j}\"\n",
        "\n",
        "        df = pd.DataFrame(j['results'])\n",
        "        df['page'] = page\n",
        "\n",
        "        yield df\n",
        "\n",
        "        if j['pagination']['hasNext'] is True:\n",
        "            page = j['pagination']['nextNum']\n",
        "        else:\n",
        "            break\n",
        "\n"
      ],
      "outputs": [],
      "execution_count": null,
      "metadata": {
        "execution": {
          "iopub.execute_input": "2020-10-27T17:27:04.333Z",
          "iopub.status.busy": "2020-10-27T17:27:04.318Z",
          "iopub.status.idle": "2020-10-27T17:27:04.349Z",
          "shell.execute_reply": "2020-10-27T17:27:04.383Z"
        },
        "jupyter": {
          "outputs_hidden": false,
          "source_hidden": false
        },
        "nteract": {
          "transient": {
            "deleting": false
          }
        }
      }
    },
    {
      "cell_type": "markdown",
      "source": [
        "# Automated TM project status & statistics report\n",
        "\n",
        "\n",
        "See the _TM Data aquisition_ section below to check to timestamp of when the data was updated.\n"
      ],
      "metadata": {
        "id": "LFIiBBeZBHSQ"
      }
    },
    {
      "cell_type": "code",
      "source": [
        "\n",
        "\n",
        "# for notebooks used for reporting, it's nice to\n",
        "# timestamp of the data, since it can get old quickly\n",
        "now = datetime.utcnow()\n",
        "print(f'data last updated: {now} UTC')\n",
        "print(f'tasking manager:   {DEFAULT_INSTANCE}')\n",
        "print(f'search keyword:    {TEXT_SEARCH}')\n",
        "print(f'campaign:          {CAMPAIGN}')\n",
        "\n",
        "\n",
        "# Collect the project data from the API\n",
        "# concatenate paginated API results into one dataframe\n",
        "\n",
        "result = pd.concat(\n",
        "    project_search(textSearch=TEXT_SEARCH,\n",
        "                   projectStatuses=projectStatuses,\n",
        "                   campaign=CAMPAIGN\n",
        "                  ),\n",
        "    ignore_index=True # each page will have the same set of ids, so they must be ignored\n",
        ");\n",
        "\n",
        "# search API pagination sometimes returns the same project more than once (due to pageintaion cacheing)\n",
        "result = result.drop_duplicates(subset='projectId');\n",
        "\n",
        "# The country column has the country string wrapped in a 1-length list, convert it to a plain string\n",
        "result['country'] = result['country'].apply(lambda val: val[0] if isinstance(val, list) else val)\n",
        "\n",
        "# sort rows to be more reader friendly. Any number of columns can be given in\n",
        "# the list for hierarchical sorting \n",
        "\n",
        "display_result = result.sort_values(by=['country','projectId' ])\n",
        "\n",
        "# Many of the coulmns are unnecessary for an overview, we select only a few of them\n",
        "display_result = display_result[['projectId', 'name', 'country', 'percentMapped','percentValidated', 'mapperLevel','status', 'priority']]\n"
      ],
      "outputs": [],
      "execution_count": null,
      "metadata": {
        "colab": {
          "base_uri": "https://localhost:8080/",
          "height": 69
        },
        "execution": {
          "iopub.execute_input": "2020-10-27T17:27:04.370Z",
          "iopub.status.busy": "2020-10-27T17:27:04.362Z",
          "iopub.status.idle": "2020-10-27T17:27:26.606Z",
          "shell.execute_reply": "2020-10-27T17:27:26.590Z"
        },
        "id": "dd3Rhlw-_X-C",
        "inputHidden": false,
        "outputHidden": false,
        "outputId": "c68333b3-5319-4d8a-fcda-dc8e5a9176b3"
      }
    },
    {
      "cell_type": "markdown",
      "source": [
        "# Global statistics\n",
        "\n",
        "This section contains basic statistics on all Tasking Manager projects found using a keyword search"
      ],
      "metadata": {
        "id": "f_rconmh9tvP"
      }
    },
    {
      "cell_type": "code",
      "source": [
        "# Stats summary of all discovered projects\n",
        "\n",
        "\n",
        "def summarize_projects(df):\n",
        "    \"\"\"df: pandas dataframe of TM projects\"\"\"\n",
        "    \n",
        "    # number of projects completely mapped & validated\n",
        "    completed = len(df[(df.percentMapped >= 99) & (df.percentValidated >= 99)])\n",
        "\n",
        "    display(Markdown(\n",
        "    f'''\n",
        "- Total number projects: {len(df)}\n",
        "    - Drafts:    {len(df[df.status=='DRAFT'])}\n",
        "    - Published: {len(df[df.status=='PUBLISHED'])} \n",
        "    - Archived:  {len(df[df.status=='ARCHIVED'])}\n",
        "- Completed projects (100% mapped & validated): {completed}\n",
        "- Average % mapped across all projects: {df.percentMapped.mean():.1f} %\n",
        "- Average % validated across all projects: {df.percentValidated.mean():.1f} %\n",
        "'''))\n",
        "\n",
        "summarize_projects(result)\n",
        "\n",
        "\n",
        "activation_length = datetime.now() - ACTIVATION_DATE\n",
        "completed = len(result[(result.percentMapped >= 99) & (result.percentValidated >= 99)])\n",
        "\n",
        "# average project completion rate during activation\n",
        "completion_rate = completed / activation_length.days\n",
        "\n",
        "display(Markdown(f'- Average completion rate: {completion_rate:.2f} projects/day'))\n",
        "\n",
        "\n",
        "plt.figure()\n",
        "plt.hist(\n",
        "    [result['percentMapped'],result['percentValidated']],\n",
        "    label=['mapped', 'validated'],\n",
        "    bins=range(0,101,10))\n",
        "plt.title('Project mapping & validation histogram')\n",
        "plt.xlabel('completion [%]')\n",
        "plt.ylabel('project count')\n",
        "plt.legend();plt.grid()\n",
        "plt.show()"
      ],
      "outputs": [],
      "execution_count": null,
      "metadata": {
        "colab": {
          "base_uri": "https://localhost:8080/",
          "height": 464
        },
        "id": "A5kgFz069zt2",
        "outputId": "c5352408-d913-4fcf-e4c6-9b6bd28ce83f",
        "execution": {
          "iopub.status.busy": "2020-10-27T17:27:26.633Z",
          "iopub.execute_input": "2020-10-27T17:27:26.641Z",
          "iopub.status.idle": "2020-10-27T17:27:26.928Z",
          "shell.execute_reply": "2020-10-27T17:27:27.039Z"
        }
      }
    },
    {
      "cell_type": "markdown",
      "source": [
        "## Projects Pending Acrchival\n",
        "\n",
        "\n",
        "The projects listed below have high (> 99 %) completion of both mapping and validation, and are in _Published_ status in Tasking Manager.\n",
        "These are ready for a 2nd validation pass and eventually archiving"
      ],
      "metadata": {
        "id": "7uQXZhCBDE0g"
      }
    },
    {
      "cell_type": "code",
      "source": [
        "\n",
        "def pending_archival(df):\n",
        "    \"\"\"list complete but still published TM projects\"\"\"\n",
        "    pending_archival = df[\n",
        "        (df.percentMapped >= 99) & \\\n",
        "        (df.percentValidated >= 99) & \\\n",
        "        (df.status == 'PUBLISHED')\n",
        "    ]\n",
        "    display(Markdown('Pending projects:'))\n",
        "    display(Markdown(str(list(pending_archival['projectId']))))\n",
        "    \n",
        "pending_archival(result)"
      ],
      "outputs": [],
      "execution_count": null,
      "metadata": {
        "cellView": "form",
        "colab": {
          "base_uri": "https://localhost:8080/",
          "height": 46
        },
        "id": "EiO334h3DI01",
        "outputId": "f0acff35-da82-496a-f2cd-f570e9141680",
        "execution": {
          "iopub.status.busy": "2020-10-27T17:27:26.944Z",
          "iopub.execute_input": "2020-10-27T17:27:26.958Z",
          "iopub.status.idle": "2020-10-27T17:27:26.987Z",
          "shell.execute_reply": "2020-10-27T17:27:27.047Z"
        }
      }
    },
    {
      "cell_type": "markdown",
      "source": [
        "# Complete Project Listing"
      ],
      "metadata": {}
    },
    {
      "cell_type": "code",
      "source": [
        "\n",
        "# Apply table styling and automatic colors\n",
        "styled = display_result.style\\\n",
        "    .background_gradient(\n",
        "        cmap=hotosm_cmap(),\n",
        "        subset=['percentMapped', 'percentValidated']\n",
        "    )\\\n",
        "    .applymap(format_priority, subset=['priority'])\\\n",
        "    .applymap(format_status, subset=['status'])\n",
        "\n",
        "display(styled)\n"
      ],
      "outputs": [],
      "execution_count": null,
      "metadata": {
        "cellView": "form",
        "colab": {
          "base_uri": "https://localhost:8080/",
          "height": 1000
        },
        "id": "D8YSHxRQ98ok",
        "outputId": "4a312440-de07-46b7-bdd3-e1dc5091b12b",
        "scrolled": false,
        "execution": {
          "iopub.status.busy": "2020-10-27T17:27:27.003Z",
          "iopub.execute_input": "2020-10-27T17:27:27.014Z",
          "iopub.status.idle": "2020-10-27T17:27:28.003Z",
          "shell.execute_reply": "2020-10-27T17:27:28.287Z"
        }
      }
    },
    {
      "cell_type": "markdown",
      "source": [
        "# Access the data as a spreadsheet\n",
        "\n",
        "Besides displaying the data inline in this notebook, it is also exported as a csv file to `./campaign-statistics-result-{timestamp}.csv' \n"
      ],
      "metadata": {
        "id": "x7l4i-mJ98I5",
        "nteract": {
          "transient": {
            "deleting": false
          }
        }
      }
    },
    {
      "cell_type": "code",
      "source": [
        "timestamp = datetime.utcnow()\n",
        "display_result.to_csv(f'campaign-statistics-result-{timestamp}.csv')"
      ],
      "outputs": [],
      "execution_count": null,
      "metadata": {
        "collapsed": true,
        "jupyter": {
          "source_hidden": false,
          "outputs_hidden": false
        },
        "nteract": {
          "transient": {
            "deleting": false
          }
        }
      }
    }
  ],
  "metadata": {
    "colab": {
      "collapsed_sections": [],
      "name": "HOTOSM Covid-19 TM project status report.ipynb",
      "provenance": []
    },
    "kernel_info": {
      "name": "python3"
    },
    "kernelspec": {
      "display_name": "Python 3",
      "language": "python",
      "name": "python3"
    },
    "language_info": {
      "name": "python",
      "version": "3.7.5",
      "mimetype": "text/x-python",
      "codemirror_mode": {
        "name": "ipython",
        "version": 3
      },
      "pygments_lexer": "ipython3",
      "nbconvert_exporter": "python",
      "file_extension": ".py"
    },
    "nteract": {
      "version": "0.25.0"
    }
  },
  "nbformat": 4,
  "nbformat_minor": 1
}